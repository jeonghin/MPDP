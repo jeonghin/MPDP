{
 "cells": [
  {
   "cell_type": "code",
   "execution_count": 1,
   "metadata": {},
   "outputs": [],
   "source": [
    "import numpy\n",
    "import pandas as pd\n",
    "import matplotlib.pyplot as plt\n",
    "import geopandas as gpd\n",
    "import random\n",
    "import networkx as nx\n",
    "import plotly.graph_objects as go\n",
    "import plotly.offline as pyo\n",
    "import pickle\n",
    "import os"
   ]
  },
  {
   "cell_type": "code",
   "execution_count": 2,
   "metadata": {},
   "outputs": [],
   "source": [
    "data = pd.read_csv(\"../Data/candidates_ge15.csv\")"
   ]
  },
  {
   "cell_type": "code",
   "execution_count": 3,
   "metadata": {},
   "outputs": [],
   "source": [
    "Malaysian_politicians = []\n",
    "\n",
    "for index, row in data.iterrows():\n",
    "    Malaysian_politicians.append((row[\"name\"], row[\"party\"]))"
   ]
  },
  {
   "cell_type": "code",
   "execution_count": 4,
   "metadata": {},
   "outputs": [],
   "source": [
    "G = nx.Graph()\n",
    "parties = set()  # Keep track of all unique parties\n",
    "\n",
    "for name, party in Malaysian_politicians:\n",
    "    G.add_node(name, type=\"politician\", party=party)\n",
    "    G.add_node(party, type=\"party\")\n",
    "    G.add_edge(name, party)\n",
    "    parties.add(party)"
   ]
  },
  {
   "cell_type": "code",
   "execution_count": 5,
   "metadata": {},
   "outputs": [],
   "source": [
    "file_exists = os.path.isfile(\"pos.pkl\")\n",
    "if file_exists:\n",
    "    with open(\"pos.pkl\", \"rb\") as f:\n",
    "        pos = pickle.load(f)\n",
    "else:\n",
    "    # Extract positions for nodes in the graph\n",
    "    pos = nx.spring_layout(G, iterations=200)\n",
    "    \n",
    "    with open(\"pos.pkl\", \"wb\") as f:\n",
    "        pickle.dump(pos, f)"
   ]
  },
  {
   "cell_type": "code",
   "execution_count": 6,
   "metadata": {},
   "outputs": [
    {
     "data": {
      "text/plain": [
       "'temp-plot.html'"
      ]
     },
     "execution_count": 6,
     "metadata": {},
     "output_type": "execute_result"
    }
   ],
   "source": [
    "node_x = []\n",
    "node_y = []\n",
    "text = []\n",
    "node_sizes = []\n",
    "node_colors = []\n",
    "\n",
    "# Define colors or other visual cues for parties and politicians\n",
    "party_color = \"red\"  # Example color for parties\n",
    "politician_color = \"blue\"  # Example color for politicians\n",
    "\n",
    "for node in G.nodes():\n",
    "    x, y = pos[node]\n",
    "    node_x.append(x)\n",
    "    node_y.append(y)\n",
    "    text.append(node)\n",
    "\n",
    "    if G.nodes[node][\"type\"] == \"party\":\n",
    "        node_sizes.append(\n",
    "            max(len(data[data[\"party\"] == node])*200 / len(data),10)\n",
    "        )  # Larger size for party nodes\n",
    "        node_colors.append(party_color)\n",
    "    else:\n",
    "        node_sizes.append(0.5)  # Smaller size for politician nodes\n",
    "        node_colors.append(politician_color)\n",
    "\n",
    "node_trace = go.Scatter(\n",
    "    x=node_x,\n",
    "    y=node_y,\n",
    "    mode=\"markers+text\",\n",
    "    hoverinfo=\"text\",\n",
    "    text=text,\n",
    "    marker=dict(size=node_sizes, color=node_colors, line_width=1),\n",
    ")\n",
    "\n",
    "edge_x = []\n",
    "edge_y = []\n",
    "for edge in G.edges():\n",
    "    x0, y0 = pos[edge[0]]\n",
    "    x1, y1 = pos[edge[1]]\n",
    "    edge_x.extend([x0, x1, None])\n",
    "    edge_y.extend([y0, y1, None])\n",
    "\n",
    "edge_trace = go.Scatter(\n",
    "    x=edge_x,\n",
    "    y=edge_y,\n",
    "    line=dict(width=0.5, color=\"#888\"),\n",
    "    hoverinfo=\"none\",\n",
    "    mode=\"lines\",\n",
    ")\n",
    "\n",
    "# Create the figure\n",
    "fig = go.Figure(\n",
    "    data=[edge_trace, node_trace],\n",
    "    layout=go.Layout(\n",
    "        title=\"Network graph of Malaysian Politicians and Parties\",\n",
    "        titlefont_size=16,\n",
    "        showlegend=False,\n",
    "        hovermode=\"closest\",\n",
    "        margin=dict(b=20, l=5, r=5, t=40),\n",
    "        xaxis=dict(showgrid=False, zeroline=False, showticklabels=False),\n",
    "        yaxis=dict(showgrid=False, zeroline=False, showticklabels=False),\n",
    "    ),\n",
    ")\n",
    "\n",
    "# Show the figure\n",
    "pyo.plot(fig)"
   ]
  },
  {
   "cell_type": "code",
   "execution_count": null,
   "metadata": {},
   "outputs": [],
   "source": []
  }
 ],
 "metadata": {
  "kernelspec": {
   "display_name": "si507",
   "language": "python",
   "name": "python3"
  },
  "language_info": {
   "codemirror_mode": {
    "name": "ipython",
    "version": 3
   },
   "file_extension": ".py",
   "mimetype": "text/x-python",
   "name": "python",
   "nbconvert_exporter": "python",
   "pygments_lexer": "ipython3",
   "version": "3.11.5"
  }
 },
 "nbformat": 4,
 "nbformat_minor": 2
}
