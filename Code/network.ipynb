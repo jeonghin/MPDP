{
 "cells": [
  {
   "cell_type": "code",
   "execution_count": 1,
   "metadata": {},
   "outputs": [],
   "source": [
    "import numpy\n",
    "import pandas as pd\n",
    "import matplotlib.pyplot as plt\n",
    "import geopandas as gpd\n",
    "import random\n",
    "import networkx as nx\n",
    "import plotly.graph_objects as go\n",
    "import plotly.offline as pyo\n",
    "import pickle\n",
    "import os\n",
    "import json"
   ]
  },
  {
   "cell_type": "code",
   "execution_count": 41,
   "metadata": {},
   "outputs": [],
   "source": [
    "candidates_df = pd.read_csv(\"Data/candidates_ge15.csv\")\n",
    "nodes = [\n",
    "    {\"id\": row[\"name\"], \"group\": row[\"party\"]}\n",
    "    for index, row in candidates_df.iterrows()\n",
    "] + [{\"id\": i, \"group\": i} for i in candidates_df.party.unique()]\n",
    "\n",
    "# For the links, we will create a link from each candidate to their party.\n",
    "# This assumes that a connection between a candidate and their party represents a link.\n",
    "links = [\n",
    "    {\"source\": row[\"party\"], \"target\": row[\"name\"]}\n",
    "    for index, row in candidates_df.iterrows()\n",
    "]\n",
    "\n",
    "\n",
    "# Combine nodes and links into a single JSON-structured dictionary.\n",
    "graph_json = {\"nodes\": nodes, \"links\": links}"
   ]
  },
  {
   "cell_type": "code",
   "execution_count": 42,
   "metadata": {},
   "outputs": [],
   "source": [
    "with open(\"graph_data_new.json\", \"w\") as f:\n",
    "    f.write(json.dumps(graph_json))"
   ]
  }
 ],
 "metadata": {
  "kernelspec": {
   "display_name": "si507",
   "language": "python",
   "name": "python3"
  },
  "language_info": {
   "codemirror_mode": {
    "name": "ipython",
    "version": 3
   },
   "file_extension": ".py",
   "mimetype": "text/x-python",
   "name": "python",
   "nbconvert_exporter": "python",
   "pygments_lexer": "ipython3",
   "version": "3.11.5"
  }
 },
 "nbformat": 4,
 "nbformat_minor": 2
}
